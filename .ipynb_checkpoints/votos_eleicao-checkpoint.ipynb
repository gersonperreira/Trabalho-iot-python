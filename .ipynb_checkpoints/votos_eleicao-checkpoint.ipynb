{
 "cells": [
  {
   "cell_type": "markdown",
   "id": "8eb7f434",
   "metadata": {},
   "source": [
    "### Dicionario dos dados da tabela "
   ]
  },
  {
   "cell_type": "markdown",
   "id": "3b9d83ea",
   "metadata": {},
   "source": [
    "| **Nome**                     | **Tipo No BigQuery** | **Descrição**                                                                         | **Cobertura Temporal** | **Coberta Por Um Dicionário** | **Coluna Correspondente Nos Diretórios** | **Unidade De Medida** | **Contém Dados Sensíveis (LGPD)** | **Observações** |\n",
    "|:--------|:----------------------|:------------|:------------------------|:-------------------------------|:--------------------------------|:--------------------------|:-----------------------------------|:-----------------|\n",
    "| ano                          | INT64                | Ano                                                                                   | 2002 - 2022            | Não                           | Não listado                              | Não listado           | Não                               | Não listado     |\n",
    "| turno                        | INT64                | Turno                                                                                 | 2018 - 2022            | Não                           | Não listado                              | Não listado           | Não                               | Não listado     |\n",
    "| tipo_eleicao                 | STRING               | Tipo da eleição                                                                       | 2002 - 2022            | Não                           | Não listado                              | Não listado           | Não                               | Não listado     |\n",
    "| sigla_uf                     | STRING               | Sigla da unidade da federação                                                         | 2002 - 2022            | Não                           | Não listado                              | Não listado           | Não                               | Não listado     |\n",
    "| id_municipio                 | STRING               | ID Município - IBGE 7 Dígitos                                                         | 2004 - 2022            | Não                           | Não listado                              | Não listado           | Não                               | Não listado     |\n",
    "| id_municipio_tse             | STRING               | ID Município - TSE                                                                    | 2004 - 2022            | Não                           | Não listado                              | Não listado           | Não                               | Não listado     |\n",
    "| sequencial_candidato         | STRING               | Sequencial do candidato                                                               | 2002 - 2022            | Não                           | Não listado                              | Não listado           | Não                               | Não listado     |\n",
    "| numero_candidato             | STRING               | Número do candidato                                                                   | 2002 - 2022            | Não                           | Não listado                              | Não listado           | Não                               | Não listado     |\n",
    "| cpf_candidato                | STRING               | CPF do candidato                                                                      | 2008 - 2022            | Não                           | Não listado                              | Não listado           | Não                               | Não listado     |\n",
    "| cnpj_candidato               | STRING               | CNPJ do candidato                                                                     | 2006 - 2008            | Não                           | Não listado                              | Não listado           | Não                               | Não listado     |\n",
    "| titulo_eleitor_candidato     | STRING               | Título de eleitor do candidato                                                        | 2008                   | Não                           | Não listado                              | Não listado           | Não                               | Não listado     |\n",
    "| id_candidato_bd              | STRING               | ID Candidato - Base dos Dados                                                         | 2002 - 2022            | Não                           | Não listado                              | Não listado           | Não                               | Não listado     |\n",
    "| nome_candidato               | STRING               | Nome do candidato                                                                     | 2002 - 2022            | Não                           | Não listado                              | Não listado           | Não                               | Não listado     |\n",
    "| cpf_vice_suplente            | STRING               | CPF do vice ou suplente                                                               | 2014 - 2022            | Não                           | Não listado                              | Não listado           | Não                               | Não listado     |\n",
    "| numero_partido               | STRING               | Número do partido                                                                     | 2018 - 2022            | Não                           | Não listado                              | Não listado           | Não                               | Não listado     |\n",
    "| nome_partido                 | STRING               | Nome do partido                                                                       | 2018 - 2022            | Não                           | Não listado                              | Não listado           | Não                               | Não listado     |\n",
    "| sigla_partido                | STRING               | Sigla do partido                                                                      | 2002 - 2022            | Não                           | Não listado                              | Não listado           | Não                               | Não listado     |\n",
    "| cargo                        | STRING               | Cargo                                                                                 | 2002 - 2022            | Não                           | Não listado                              | Não listado           | Não                               | Não listado     |\n",
    "| sequencial_receita           | STRING               | Sequencial da receita                                                                 | 2018 - 2022            | Não                           | Não listado                              | Não listado           | Não                               | Não listado     |\n",
    "| data_receita                 | DATE                 | Data da receita                                                                       | 2002 - 2022            | Não                           | Não listado                              | Não listado           | Não                               | Não listado     |\n",
    "| fonte_receita                | STRING               | Fonte da receita                                                                      | 2010 - 2022            | Não                           | Não listado                              | Não listado           | Não                               | Não listado     |\n",
    "| origem_receita               | STRING               | Origem da receita                                                                     | 2004 - 2022            | Não                           | Não listado                              | Não listado           | Não                               | Não listado     |\n",
    "| natureza_receita             | STRING               | Natureza da receita                                                                   | 2010 - 2022            | Não                           | Não listado                              | Não listado           | Não                               | Não listado     |\n",
    "| especie_receita              | STRING               | Espécie da receita                                                                    | 2002 - 2022            | Não                           | Não listado                              | Não listado           | Não                               | Não listado     |\n",
    "| situacao_receita             | STRING               | Situação da receita                                                                   | 2004 - 2008            | Não                           | Não listado                              | Não listado           | Não                               | Não listado     |\n",
    "| descricao_receita            | STRING               | Descrição da receita                                                                  | 2010 - 2022            | Não                           | Não listado                              | Não listado           | Não                               | Não listado     |\n",
    "| valor_receita                | FLOAT64              | Valor da receita                                                                      | 2002 - 2022            | Não                           | Não listado                              | BRL (R$)              | Não                               | Não listado     |\n",
    "| sequencial_candidato_doador  | STRING               | Sequencial do candidato doador                                                        | 2018 - 2022            | Não                           | Não listado                              | Não listado           | Não                               | Não listado     |\n",
    "| cpf_cnpj_doador              | STRING               | CPF ou CNPJ do doador                                                                 | 2002 - 2022            | Não                           | Não listado                              | Não listado           | Não                               | Não listado     |\n",
    "| sigla_uf_doador              | STRING               | Sigla da unidade da federação do doador                                               | 2002 - 2022            | Não                           | Não listado                              | Não listado           | Não                               | Não listado     |\n",
    "| id_municipio_tse_doador      | STRING               | ID Município do doador - TSE                                                          | 2008 - 2022            | Não                           | Não listado                              | Não listado           | Não                               | Não listado     |\n",
    "| nome_doador                  | STRING               | Nome do doador                                                                        | 2002 - 2022            | Não                           | Não listado                              | Não listado           | Não                               | Não listado     |\n",
    "| nome_doador_rf               | STRING               | Nome do doador - Receita Federal                                                      | 2012 - 2022            | Não                           | Não listado                              | Não listado           | Não                               | Não listado     |\n",
    "| cargo_candidato_doador       | STRING               | Cargo do candidato doador                                                             | 2018 - 2022            | Não                           | Não listado                              | Não listado           | Não                               | Não listado     |\n",
    "| numero_partido_doador        | STRING               | Número do partido do doador                                                           | 2014 - 2022            | Não                           | Não listado                              | Não listado           | Não                               | Não listado     |\n",
    "| sigla_partido_doador         | STRING               | Sigla do partido do doador                                                            | 2018 - 2022            | Não                           | Não listado                              | Não listado           | Não                               | Não listado     |\n",
    "| nome_partido_doador          | STRING               | Nome do partido do doador                                                             | 2018 - 2022            | Não                           | Não listado                              | Não listado           | Não                               | Não listado     |\n",
    "| esfera_partidaria_doador     | STRING               | Esfera partidária do doador                                                           | 2018 - 2022            | Não                           | Não listado                              | Não listado           | Não                               | Não listado     |\n",
    "| numero_candidato_doador      | STRING               | Número do candidato doador                                                            | 2014 - 2022            | Não                           | Não listado                              | Não listado           | Não                               | Não listado     |\n",
    "| cnae_2_doador                | STRING               | Classificação Nacional de Atividades Econômicas 2.0 do doador                         | 2014 - 2022            | Não                           | Não listado                              | Não listado           | Não                               | Não listado     |\n",
    "| descricao_cnae_2_doador      | STRING               | Descrição da Classificação Nacional de Atividades Econômicas 2.0 do doador            | 2012 - 2022            | Não                           | Não listado                              | Não listado           | Não                               | Não listado     |\n",
    "| cpf_cnpj_doador_orig         | STRING               | CPF ou CNPJ do doador originário                                                      | 2014 - 2016            | Não                           | Não listado                              | Não listado           | Não                               | Não listado     |\n",
    "| nome_doador_orig             | STRING               | Nome do doador originário                                                             | 2014 - 2016            | Não                           | Não listado                              | Não listado           | Não                               | Não listado     |\n",
    "| nome_doador_orig_rf          | STRING               | Nome do doador originário - Receita Federal                                           | 2014 - 2016            | Não                           | Não listado                              | Não listado           | Não                               | Não listado     |\n",
    "| tipo_doador_orig             | STRING               | Tipo do doador originário                                                             | 2014 - 2016            | Não                           | Não listado                              | Não listado           | Não                               | Não listado     |\n",
    "| descricao_cnae_2_doador_orig | STRING               | Descrição da Classificação Nacional de Atividades Econômicas 2.0 do doador originário | 2014                   | Não                           | Não listado                              | Não listado           | Não                               | Não listado     |\n",
    "| nome_administrador           | STRING               | Nome do administrador                                                                 | 2008                   | Não                           | Não listado                              | Não listado           | Não                               | Não listado     |\n",
    "| cpf_administrador            | STRING               | CPF do administrador                                                                  | 2008                   | Não                           | Não listado                              | Não listado           | Não                               | Não listado     |\n",
    "| numero_recibo_eleitoral      | STRING               | Número do recibo eleitoral                                                            | 2010 - 2016            | Não                           | Não listado                              | Não listado           | Não                               | Não listado     |\n",
    "| numero_documento             | STRING               | Número do documento                                                                   | 2010 - 2016            | Não                           | Não listado                              | Não listado           | Não                               | Não listado     |\n",
    "| numero_recibo_doacao         | STRING               | Número do recibo da doação                                                            | 2018 - 2022            | Não                           | Não listado                              | Não listado           | Não                               | Não listado     |\n",
    "| numero_documento_doacao      | STRING               | Número do documento da doação                                                         | 2018 - 2022            | Não                           | Não listado                              | Não listado           | Não                               | Não listado     |\n",
    "| tipo_prestacao_contas        | STRING               | Tipo de prestação de contas                                                           | 2018 - 2022            | Não                           | Não listado                              | Não listado           | Não                               | Não listado     |\n",
    "| data_prestacao_contas        | DATE                 | Data de prestação de contas                                                           | 2018 - 2022            | Não                           | Não listado                              | Não listado           | Não                               | Não listado     |\n",
    "| sequencial_prestador_contas  | STRING               | Sequencial do prestador de contas                                                     | 2018 - 2022            | Não                           | Não listado                              | Não listado           | Não                               | Não listado     |\n",
    "| cnpj_prestador_contas        | STRING               | CNPJ do prestador de contas                                                           | 2014 - 2022            | Não                           | Não listado                              | Não listado           | Não                               | Não listado     |\n",
    "| entrega_conjunto             | STRING               | Entrega em conjunto                                                                   | 2010                   | Não                           | Não listado                              | Não listado           | Não                               | Não listado     |\n"
   ]
  },
  {
   "cell_type": "markdown",
   "id": "f63ed7a7",
   "metadata": {},
   "source": [
    "### Configurando as bibliotecas utilizadas"
   ]
  },
  {
   "cell_type": "code",
   "execution_count": 1,
   "id": "c07c9567",
   "metadata": {},
   "outputs": [],
   "source": [
    "import pandas as pd\n",
    "import basedosdados as bd"
   ]
  },
  {
   "cell_type": "markdown",
   "id": "9527e2bb",
   "metadata": {},
   "source": [
    "### Recebendo os dados da fonte \"Base dos Dados\"\n",
    "\n",
    "* Os dados utilizados se referem a dados de financiamento de campanha de receita para candidatos\n",
    "* Devido a limitação da extração dos dados só temos registros do ano de 2002"
   ]
  },
  {
   "cell_type": "code",
   "execution_count": null,
   "id": "f5c81b67",
   "metadata": {},
   "outputs": [],
   "source": [
    "# Recebendo a tabela com as informações dos bens de cada candidato (limitado a 5 mil linhas)\n",
    "receitas_candidatos = bd.read_table(dataset_id='br_tse_eleicoes',\n",
    "                   table_id='receitas_candidato',\n",
    "                   billing_project_id='eleicoes-380622',\n",
    "                   limit=10000)"
   ]
  },
  {
   "cell_type": "markdown",
   "id": "300d26b0",
   "metadata": {},
   "source": [
    "### Preparando a Tabela"
   ]
  },
  {
   "cell_type": "code",
   "execution_count": null,
   "id": "fc1e36f3",
   "metadata": {
    "scrolled": false
   },
   "outputs": [],
   "source": [
    "# Excluindo as informações não relevantes ou sensiveis da tabela\n",
    "\n",
    "receitas_candidatos.drop(labels=['cpf_candidato', \n",
    "                                 'cnpj_candidato', \n",
    "                                 'titulo_eleitor_candidato', \n",
    "                                 'cpf_vice_suplente',\n",
    "                                 'cpf_cnpj_doador', \n",
    "                                 'cpf_cnpj_doador_orig', \n",
    "                                 'cpf_administrador', \n",
    "                                 'cnpj_prestador_contas'], axis=1, inplace=True)\n",
    "print(\"Colunas Removidas\")"
   ]
  },
  {
   "cell_type": "markdown",
   "id": "2f4c0498",
   "metadata": {},
   "source": [
    "### Criando a função de busca na tabela"
   ]
  },
  {
   "cell_type": "code",
   "execution_count": 10,
   "id": "89b790a8",
   "metadata": {},
   "outputs": [],
   "source": [
    "# Função de busca pelo condidato e\n",
    "def busca_candidato(nome: str, inicio: int=2002, fim: int=2022, baixar=2):\n",
    "    \"\"\"\n",
    "    Busca pelo nome do candidato entre o intervalo informado,\n",
    "    e retorna um novo DataFrame contendo \n",
    "    \n",
    "    -----------\n",
    "    Parametros:\n",
    "    nome: string;\n",
    "    inicio: int, padrão '2000';\n",
    "    fim: int, padrão '2022';\n",
    "    baixar: bool, padrão False;\n",
    "    \n",
    "    -----------\n",
    "    Retorna:\n",
    "    A função retorna um DataFrame com as informações \n",
    "    filtradas conforme os parametros passados para a variavel, \n",
    "    e caso o usuário tenha solicitado a função faz o dowload da tabela\n",
    "    em um arquivo do tipo excel na pasta dentro do diretório.\n",
    "    \n",
    "    -----------\n",
    "    \"\"\"\n",
    "    \n",
    "    # Criando um DataFrame filtrando o nome pesquisado\n",
    "    df_busca_nome = receitas_candidatos[receitas_candidatos['nome_candidato'].str.contains(nome, case=False, regex=False) ]\n",
    "    \n",
    "    # Criando um DataFrame filtrando o intervalo dos anos pesquisados\n",
    "    df_busca = df_busca_nome[df_busca_nome['ano'].between(inicio, fim, inclusive='both')]\n",
    "    \n",
    "    # Verificando o tamanha da tabela\n",
    "    if len(df_busca) < 0 or None:\n",
    "        print(\"Nome não encontrado\")\n",
    "        \n",
    "    else:\n",
    "        if baixar == '1' or baixar  == 1:\n",
    "            df_busca.to_excel(f'pesquisas/pesquisa_cadidato_{nome}.xlsx')\n",
    "            print(\"Aquivo foi salvo na pasta 'pesquisas'\")\n",
    "        if baixar == '2' or baixar == 2:\n",
    "            return df_busca\n",
    "        else:\n",
    "            print(\"Tente novamente, informando um numero que seja 1 ou 2\") \n",
    "    "
   ]
  },
  {
   "cell_type": "markdown",
   "id": "aa5fd467",
   "metadata": {},
   "source": [
    "### Pegando as informações com o usuário"
   ]
  },
  {
   "cell_type": "code",
   "execution_count": 11,
   "id": "a362b69d",
   "metadata": {
    "scrolled": true
   },
   "outputs": [
    {
     "name": "stdout",
     "output_type": "stream",
     "text": [
      "Qual o nome do candidato?: Augusto\n",
      "Qual o primeiro ano do intervalo da busca?: 1999\n",
      "Qual o último ano do intervalo da busca?: 2022\n",
      "Deseja baixar a tabela com o resultado da busca? (1 para baixar e 2 para não baixar): 1\n",
      "Aquivo foi salvo na pasta 'pesquisas'\n",
      "Tente novamente, informando um numero que seja 1 ou 2\n"
     ]
    }
   ],
   "source": [
    "# Recebendo do usuairo as informações para a busca do candidato na base de dados\n",
    "# E tratando os possiveis erros com o preenchimento das variaveis\n",
    "\n",
    "try:\n",
    "    nome_candidato = str(input(\"Qual o nome do candidato?: \"))\n",
    "except (ValueError, TypeError) as error:\n",
    "    print(f'Algo deu errado: {error}')\n",
    "finally:\n",
    "    pass\n",
    "\n",
    "try:\n",
    "    inicio_data = int(input(\"Qual o primeiro ano do intervalo da busca?: \"))\n",
    "except (ValueError, TypeError) as error:\n",
    "    print(f'Algo deu errado: {error}')\n",
    "finally:\n",
    "    pass\n",
    "\n",
    "try:\n",
    "    fim_data = int(input(\"Qual o último ano do intervalo da busca?: \"))\n",
    "except (ValueError, TypeError) as error:\n",
    "    print(f'Algo deu errado: {error}')\n",
    "finally:\n",
    "    pass\n",
    "\n",
    "try:\n",
    "    baixar_busca = input(\"Deseja baixar a tabela com o resultado da busca? (1 para baixar e 2 para não baixar): \")\n",
    "except (ValueError, TypeError) as error:\n",
    "    print(f'Algo deu errado: {error}')\n",
    "finally:\n",
    "    pass\n",
    "\n",
    "# Tratando os possiveis erros da função\n",
    "busca_candidato(nome=nome_candidato,inicio=inicio_data, fim=fim_data, baixar=baixar_busca)"
   ]
  }
 ],
 "metadata": {
  "kernelspec": {
   "display_name": "Python 3 (ipykernel)",
   "language": "python",
   "name": "python3"
  },
  "language_info": {
   "codemirror_mode": {
    "name": "ipython",
    "version": 3
   },
   "file_extension": ".py",
   "mimetype": "text/x-python",
   "name": "python",
   "nbconvert_exporter": "python",
   "pygments_lexer": "ipython3",
   "version": "3.10.9"
  }
 },
 "nbformat": 4,
 "nbformat_minor": 5
}
