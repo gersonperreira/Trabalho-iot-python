{
 "cells": [
  {
   "cell_type": "markdown",
   "id": "8eb7f434",
   "metadata": {},
   "source": [
    "### Dicionario dos dados da tabela "
   ]
  },
  {
   "cell_type": "markdown",
   "id": "7eeee1d7",
   "metadata": {},
   "source": [
    "# PEGAR O DICIONARIO DE DADOS"
   ]
  },
  {
   "cell_type": "markdown",
   "id": "f63ed7a7",
   "metadata": {},
   "source": [
    "### Bibliotecas utilizadas"
   ]
  },
  {
   "cell_type": "code",
   "execution_count": 1,
   "id": "c07c9567",
   "metadata": {},
   "outputs": [],
   "source": [
    "import pandas as pd\n",
    "import basedosdados as bd"
   ]
  },
  {
   "cell_type": "markdown",
   "id": "9527e2bb",
   "metadata": {},
   "source": [
    "### Importando a tabela de dados"
   ]
  },
  {
   "cell_type": "code",
   "execution_count": 2,
   "id": "f5c81b67",
   "metadata": {},
   "outputs": [
    {
     "name": "stderr",
     "output_type": "stream",
     "text": [
      "Downloading: 100%|█████████████████████████████████████████████████████████████| 10000/10000 [00:04<00:00, 2469.51rows/s]\n"
     ]
    }
   ],
   "source": [
    "votacao_municipios = bd.read_table(dataset_id='br_tse_eleicoes',\n",
    "                   table_id='detalhes_votacao_municipio',\n",
    "                   billing_project_id='votacoes-381322',\n",
    "                   limit=10000)"
   ]
  },
  {
   "cell_type": "markdown",
   "id": "300d26b0",
   "metadata": {},
   "source": [
    "### Preparando a Tabela"
   ]
  },
  {
   "cell_type": "code",
   "execution_count": 3,
   "id": "fc1e36f3",
   "metadata": {
    "scrolled": true
   },
   "outputs": [
    {
     "name": "stdout",
     "output_type": "stream",
     "text": [
      "<class 'pandas.core.frame.DataFrame'>\n",
      "RangeIndex: 10000 entries, 0 to 9999\n",
      "Data columns (total 22 columns):\n",
      " #   Column                    Non-Null Count  Dtype  \n",
      "---  ------                    --------------  -----  \n",
      " 0   ano                       10000 non-null  Int64  \n",
      " 1   turno                     10000 non-null  Int64  \n",
      " 2   tipo_eleicao              10000 non-null  object \n",
      " 3   sigla_uf                  10000 non-null  object \n",
      " 4   id_municipio              10000 non-null  object \n",
      " 5   id_municipio_tse          10000 non-null  object \n",
      " 6   cargo                     10000 non-null  object \n",
      " 7   aptos                     10000 non-null  Int64  \n",
      " 8   secoes                    10000 non-null  Int64  \n",
      " 9   secoes_agregadas          10000 non-null  Int64  \n",
      " 10  aptos_totalizadas         10000 non-null  Int64  \n",
      " 11  secoes_totalizadas        10000 non-null  Int64  \n",
      " 12  comparecimento            10000 non-null  Int64  \n",
      " 13  abstencoes                10000 non-null  Int64  \n",
      " 14  votos_validos             10000 non-null  Int64  \n",
      " 15  votos_brancos             10000 non-null  Int64  \n",
      " 16  votos_nulos               10000 non-null  Int64  \n",
      " 17  votos_legenda             10000 non-null  Int64  \n",
      " 18  proporcao_comparecimento  10000 non-null  float64\n",
      " 19  proporcao_votos_validos   10000 non-null  float64\n",
      " 20  proporcao_votos_brancos   10000 non-null  float64\n",
      " 21  proporcao_votos_nulos     10000 non-null  float64\n",
      "dtypes: Int64(13), float64(4), object(5)\n",
      "memory usage: 1.8+ MB\n"
     ]
    }
   ],
   "source": [
    "votacao_municipios.info()"
   ]
  },
  {
   "cell_type": "markdown",
   "id": "2f4c0498",
   "metadata": {},
   "source": [
    "### Criando a função de busca na tabela"
   ]
  },
  {
   "cell_type": "code",
   "execution_count": 4,
   "id": "89b790a8",
   "metadata": {},
   "outputs": [],
   "source": [
    "# Função de busca pelo condidato e\n",
    "def busca(cargo: str, voto: str, inicio: int, fim: int, uf: str, baixar=2):\n",
    "    \n",
    "    # Criando um DataFrame filtrando o nome, estado e ano pesquisado\n",
    "    \n",
    "    # Buscando os votos validos\n",
    "    df_votos = votacao_municipios[votacao_municipios['votos_validos'].str.contains(votos, case=False, regex=False) ]\n",
    "    \n",
    "    # Buscando os votos validos\n",
    "    df_votos = votacao_municipios[votacao_municipios['votos_validos'].str.contains(votos, case=False, regex=False) ]\n",
    "    \n",
    "    # Buscando os votos validos\n",
    "    df_votos = votacao_municipios[votacao_municipios['votos_validos'].str.contains(votos, case=False, regex=False) ]\n",
    "    \n",
    "    # Criando um DataFrame filtrando o intervalo dos anos pesquisados\n",
    "    df_busca = df_votos[df_votos['ano'].between(inicio, fim, inclusive='both')]\n",
    "    \n",
    "    # Verificando o tamanha da tabela\n",
    "    if len(df_busca) < 0 or None:\n",
    "        print(\"Dados não encontrados!\")\n",
    "        \n",
    "    else:\n",
    "        if baixar == '1' or baixar  == 1:\n",
    "            df_busca.to_excel(f'pesquisas/pesquisa_cadidato_{cargo}.xlsx')\n",
    "            print(\"Aquivo foi salvo na pasta 'pesquisas'\")\n",
    "        if baixar == '2' or baixar == 2:\n",
    "            return df_busca\n",
    "        else:\n",
    "            print(\"Tente novamente, informando um numero que seja 1 ou 2\") \n",
    "    "
   ]
  },
  {
   "cell_type": "markdown",
   "id": "aa5fd467",
   "metadata": {},
   "source": [
    "### Pegando as informações com o usuário"
   ]
  },
  {
   "cell_type": "code",
   "execution_count": 5,
   "id": "a362b69d",
   "metadata": {
    "scrolled": true
   },
   "outputs": [
    {
     "ename": "SyntaxError",
     "evalue": "invalid syntax. Perhaps you forgot a comma? (3843228172.py, line 19)",
     "output_type": "error",
     "traceback": [
      "\u001b[1;36m  Cell \u001b[1;32mIn[5], line 19\u001b[1;36m\u001b[0m\n\u001b[1;33m    busca(cargo=cargo, voto=voto_municiopio, inicio=inicio_data, fim=fim_data, uf=municipio baixar=baixar_busca)\u001b[0m\n\u001b[1;37m                                                                                  ^\u001b[0m\n\u001b[1;31mSyntaxError\u001b[0m\u001b[1;31m:\u001b[0m invalid syntax. Perhaps you forgot a comma?\n"
     ]
    }
   ],
   "source": [
    "# Recebendo do usuairo as informações para a busca do candidato na base de dados\n",
    "# E tratando os possiveis erros com o preenchimento das variaveis\n",
    "\n",
    "cargo = str(input(\"Qual o cargo do candidato?: \"))\n",
    "\n",
    "# Os tipo de votos são \"validos\", \"nulos\" e \"brancos\"\n",
    "voto_municiopio = str(input(\"Qual o tipo de voto: \"))\n",
    "\n",
    "municipio = str(input(\"Qual o municipio: \"))\n",
    "\n",
    "inicio_data = int(input(\"Qual o primeiro ano do intervalo da busca?: \"))\n",
    "\n",
    "fim_data = int(input(\"Qual o último ano do intervalo da busca?: \"))\n",
    "\n",
    "baixar_busca = input(\"Deseja baixar a tabela com o resultado da busca? (1 para baixar e 2 para não baixar): \")\n",
    "\n",
    "\n",
    "# Tratando os possiveis erros da função\n",
    "busca(cargo=cargo, voto=voto_municiopio, inicio=inicio_data, fim=fim_data, uf=municipio baixar=baixar_busca)"
   ]
  },
  {
   "cell_type": "code",
   "execution_count": null,
   "id": "424ba15a",
   "metadata": {},
   "outputs": [],
   "source": []
  }
 ],
 "metadata": {
  "kernelspec": {
   "display_name": "Python 3 (ipykernel)",
   "language": "python",
   "name": "python3"
  },
  "language_info": {
   "codemirror_mode": {
    "name": "ipython",
    "version": 3
   },
   "file_extension": ".py",
   "mimetype": "text/x-python",
   "name": "python",
   "nbconvert_exporter": "python",
   "pygments_lexer": "ipython3",
   "version": "3.10.9"
  }
 },
 "nbformat": 4,
 "nbformat_minor": 5
}
