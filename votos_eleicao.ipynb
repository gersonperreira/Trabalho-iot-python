{
 "cells": [
  {
   "cell_type": "markdown",
   "id": "8eb7f434",
   "metadata": {},
   "source": [
    "### Dicionario dos dados da tabela "
   ]
  },
  {
   "attachments": {},
   "cell_type": "markdown",
   "id": "370e5010",
   "metadata": {},
   "source": [
    "Nome|Tipo No BigQuery|Descrição|Cobertura Temporal|Coberta Por Um Dicionário|Coluna Correspondente Nos Diretórios|Unidade De Medida|Contém Dados Sensíveis (LGPD)|Observações\n",
    "|:----------|:----------|:----------|:----------------|:----------|:----------|:----------|:----------|:----------|\n",
    "ano|INT64|Ano|1998 - 2022|Não|br_bd_diretorios_data_tempo.ano:ano|ano|Não|Não listado\n",
    "turno|INT64|Turno|1998 - 2022|Não|Não listado|Não listado|Não|Não listado\n",
    "tipo_eleicao|STRING|Tipo da eleição|1998 - 2022|Não|Não listado|Não listado|Não|Não listado\n",
    "sigla_uf|STRING|Sigla da unidade da federação|1998 - 2022|Não|br_bd_diretorios_brasil.uf:sigla|Não listado|Não|Não listado\n",
    "id_municipio|STRING|ID Município - IBGE 7 Dígitos|1998 - 2022|Não|br_bd_diretorios_brasil.municipio:id_municipio|Não listado|Não|Não listado\n",
    "id_municipio_tse|STRING|ID Município - TSE|1998 - 2022|Não|br_bd_diretorios_brasil.municipio:id_municipio_tse|Não listado|Não|Não listado\n",
    "cargo|STRING|Cargo|1998 - 2022|Não|Não listado|Não listado|Não|Não listado\n",
    "aptos|INT64|Número de eleitores aptos|1998 - 2022|Não|Não listado|Não listado|Não|Não listado\n",
    "secoes|INT64|Número de seções eleitorais|1998 - 2022|Não|Não listado|Não listado|Não|Não listado\n",
    "secoes_agregadas|INT64|Número de seções eleitorais agregadas|1998 - 2022|Não|Não listado|Não listado|Não|Não listado\n",
    "aptos_totalizadas|INT64|Número de eleitores aptos totalizados|1998 - 2022|Não|Não listado|Não listado|Não|Não listado\n",
    "secoes_totalizadas|INT64|Número de seções eleitorais totalizadas|1998 - 2022|Não|Não listado|Não listado|Não|Não listado\n",
    "comparecimento|INT64|Número de Comparecimentos|1998 - 2022|Não|Não listado|Não listado|Não|Não listado\n",
    "abstencoes|INT64|Número de Abstenções|1998 - 2022|Não|Não listado|Não listado|Não|Não listado\n",
    "votos_validos|INT64|Número de votos válidos|1998 - 2022|Não|Não listado|Não listado|Não|Não listado\n",
    "votos_brancos|INT64|Número de votos brancos|1998 - 2022|Não|Não listado|Não listado|Não|Não listado\n",
    "votos_nulos|INT64|Número de votos nulos|1998 - 2022|Não|Não listado|Não listado|Não|Não listado\n",
    "votos_legenda|INT64|Número de votos em coligações|1998 - 2022|Não|Não listado|Não listado|Não|Não listado\n",
    "proporcao_comparecimento|FLOAT64|Proporção de comparecimento|1998 - 2022|Não|Não listado|porcentagem|Não|Não listado\n",
    "proporcao_votos_validos|FLOAT64|Proporção de votos válidos|1998 - 2022|Não|Não listado|porcentagem|Não|Não listado\n",
    "proporcao_votos_brancos|FLOAT64|Proporção de votos brancos|1998 - 2022|Não|Não listado|porcentagem|Não|Não listado\n",
    "proporcao_votos_nulos|FLOAT64|Proporção de votos nulos|1998 - 2022|Não|Não listado|porcentagem|Não|Não listado"
   ]
  },
  {
   "cell_type": "markdown",
   "id": "06962c0a",
   "metadata": {},
   "source": [
    "# PEGAR O DICIONARIO DE DADOS"
   ]
  },
  {
   "cell_type": "markdown",
   "id": "f63ed7a7",
   "metadata": {},
   "source": [
    "### Bibliotecas utilizadas"
   ]
  },
  {
   "cell_type": "code",
   "execution_count": 50,
   "id": "c07c9567",
   "metadata": {},
   "outputs": [],
   "source": [
    "import os \n",
    "import pandas as pd\n",
    "import basedosdados as bd"
   ]
  },
  {
   "cell_type": "markdown",
   "id": "9527e2bb",
   "metadata": {},
   "source": [
    "### Importando a tabela de dados"
   ]
  },
  {
   "cell_type": "code",
   "execution_count": 3,
   "id": "f5c81b67",
   "metadata": {},
   "outputs": [
    {
     "name": "stdout",
     "output_type": "stream",
     "text": [
      "Please visit this URL to authorize this application: https://accounts.google.com/o/oauth2/auth?response_type=code&client_id=262006177488-3425ks60hkk80fssi9vpohv88g6q1iqd.apps.googleusercontent.com&redirect_uri=http%3A%2F%2Flocalhost%3A8080%2F&scope=https%3A%2F%2Fwww.googleapis.com%2Fauth%2Fcloud-platform&state=deq7dweQHcVUFrUuqlUgUuxPWxelkn&access_type=offline\n"
     ]
    },
    {
     "name": "stderr",
     "output_type": "stream",
     "text": [
      "Downloading: 100%|██████████████████████████████████████| 10000/10000 [00:03<00:00, 2544.90rows/s]\n"
     ]
    }
   ],
   "source": [
    "votacao_municipios = bd.read_table(dataset_id='br_tse_eleicoes',\n",
    "                   table_id='detalhes_votacao_municipio',\n",
    "                   billing_project_id='votacoes-381322',\n",
    "                   limit=10000)"
   ]
  },
  {
   "cell_type": "markdown",
   "id": "300d26b0",
   "metadata": {},
   "source": [
    "### Preparando a Tabela"
   ]
  },
  {
   "cell_type": "markdown",
   "id": "2f4c0498",
   "metadata": {},
   "source": [
    "### Criando a função de busca na tabela"
   ]
  },
  {
   "cell_type": "code",
   "execution_count": 59,
   "id": "89b790a8",
   "metadata": {},
   "outputs": [],
   "source": [
    "# Função de busca pelo condidato e\n",
    "def busca(cargo, baixar=2):\n",
    "    \n",
    "    # Buscando o cargo\n",
    "    df_votos = votacao_municipios[votacao_municipios['cargo'].str.contains(cargo, case=False, regex=False)]\n",
    "\n",
    "    # Verificando o tamanha da tabela\n",
    "    if len(df_votos) < 0 or None:\n",
    "        print(\"Dados não encontrados!\")\n",
    "    # Gerando a opção de escolha de download \n",
    "    else:\n",
    "        if baixar == '1' or baixar  == 1:\n",
    "            df_votos.to_excel(f'pesquisa/votos_{cargo}.xlsx')\n",
    "            \n",
    "        if baixar == '2' or baixar == 2:\n",
    "            return df_votos\n",
    "    "
   ]
  },
  {
   "cell_type": "markdown",
   "id": "515afaa9",
   "metadata": {},
   "source": [
    "### Opções de cargos para pesquisar na tabela"
   ]
  },
  {
   "cell_type": "code",
   "execution_count": 57,
   "id": "16274acd",
   "metadata": {},
   "outputs": [
    {
     "data": {
      "text/plain": [
       "array(['prefeito', 'vereador', 'deputado estadual', 'deputado federal',\n",
       "       'governador', 'presidente', 'senador'], dtype=object)"
      ]
     },
     "execution_count": 57,
     "metadata": {},
     "output_type": "execute_result"
    }
   ],
   "source": [
    "votacao_municipios['cargo'].unique()"
   ]
  },
  {
   "cell_type": "markdown",
   "id": "aa5fd467",
   "metadata": {},
   "source": [
    "### Pegando as informações com o usuário"
   ]
  },
  {
   "cell_type": "code",
   "execution_count": 60,
   "id": "a362b69d",
   "metadata": {
    "scrolled": true
   },
   "outputs": [
    {
     "name": "stdout",
     "output_type": "stream",
     "text": [
      "Qual o cargo do candidato?: presidente\n",
      "Deseja baixar a tabela com o resultado da busca? (1 para baixar e 2 para não baixar): 1\n",
      "Tente novamente!\n"
     ]
    }
   ],
   "source": [
    "cargo = input(\"Qual o cargo do candidato?: \")\n",
    "baixar_busca = int(input(\"Deseja baixar a tabela com o resultado da busca? (1 para baixar e 2 para não baixar): \"))\n",
    "\n",
    "busca(cargo=cargo, baixar=baixar_busca)"
   ]
  }
 ],
 "metadata": {
  "kernelspec": {
   "display_name": "Python 3 (ipykernel)",
   "language": "python",
   "name": "python3"
  },
  "language_info": {
   "codemirror_mode": {
    "name": "ipython",
    "version": 3
   },
   "file_extension": ".py",
   "mimetype": "text/x-python",
   "name": "python",
   "nbconvert_exporter": "python",
   "pygments_lexer": "ipython3",
   "version": "3.10.9"
  }
 },
 "nbformat": 4,
 "nbformat_minor": 5
}
